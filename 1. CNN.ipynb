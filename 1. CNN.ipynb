{
 "cells": [
  {
   "cell_type": "markdown",
   "metadata": {},
   "source": [
    "<img src='http://www-scf.usc.edu/~ghasemig/images/sharif.png' alt=\"SUT logo\" width=200 height=200 align=left class=\"saturate\" >\n",
    "\n",
    "<br>\n",
    "<font face=\"Times New Roman\">\n",
    "<div dir=ltr align=center>\n",
    "<font color=0F5298 size=7>\n",
    "    Introduction to Machine Learning <br>\n",
    "<font color=2565AE size=5>\n",
    "    Computer Engineering Department <br>\n",
    "    Fall 2022<br>\n",
    "<font color=3C99D size=5>\n",
    "    Homework 4: Practical - Convolutional Neural Networks <br>\n",
    "<font color=696880 size=4>\n",
    "    Arian Amani\n",
    "    \n",
    "    \n",
    "____\n"
   ]
  },
  {
   "attachments": {},
   "cell_type": "markdown",
   "metadata": {},
   "source": [
    "### Full Name : Mohammad Bagher Soltani \n",
    "### Student Number : 98105813\n",
    "___"
   ]
  },
  {
   "cell_type": "markdown",
   "metadata": {},
   "source": [
    "# Problem\n",
    "This assignment uses PyTorch to build and implement a residual CNN for solving a classification problem. Our goal is to classify handwritten digits from 0 to 9 on the MNIST dataset. You can try larger and more fun datasets if you have access to Google Colab. (for example: [facial emotion detection](https://www.kaggle.com/datasets/msambare/fer2013))\n",
    "\n",
    "* It is highly recommended to run this notebook on Google Colab so that you can utilize its GPU.\n",
    "* If you need to change the inputs of functions you are implementing, or want to add new cells or functions, feel free to do so."
   ]
  },
  {
   "cell_type": "markdown",
   "metadata": {
    "id": "W0bGV8AXO3Yx"
   },
   "source": [
    "# Setup"
   ]
  },
  {
   "cell_type": "code",
   "execution_count": 33,
   "metadata": {
    "id": "CdrZr6HWO2p8"
   },
   "outputs": [],
   "source": [
    "import torch\n",
    "from torch import nn\n",
    "from torch.nn import functional as F\n",
    "from torch.utils.data import Dataset, DataLoader, random_split\n",
    "from torchvision import transforms, datasets\n",
    "from copy import deepcopy\n",
    "\n",
    "from tqdm import tqdm\n",
    "import numpy as np\n",
    "import pandas as pd\n",
    "import matplotlib.pyplot as plt\n",
    "\n",
    "plt.style.use('ggplot')\n",
    "###########################################################\n",
    "##  If you need any other packages, import them below    ##\n",
    "###########################################################\n"
   ]
  },
  {
   "cell_type": "code",
   "execution_count": 34,
   "metadata": {},
   "outputs": [
    {
     "data": {
      "text/plain": [
       "device(type='cpu')"
      ]
     },
     "execution_count": 34,
     "metadata": {},
     "output_type": "execute_result"
    }
   ],
   "source": [
    "device = torch.device('cuda' if torch.cuda.is_available() else 'cpu')\n",
    "device"
   ]
  },
  {
   "cell_type": "markdown",
   "metadata": {
    "id": "gzydGC2SNuAu"
   },
   "source": [
    "# Prepare The Data (10 Points)"
   ]
  },
  {
   "cell_type": "markdown",
   "metadata": {},
   "source": [
    "Write a composed transformation to transform our dataset's PIL images to tensors and normalize them with ```mean: 0.1307``` and ```std: 0.3081```: "
   ]
  },
  {
   "cell_type": "markdown",
   "metadata": {},
   "source": [
    "<details>\n",
    "<summary>Hint</summary>\n",
    "<br>\n",
    "<a href=\"https://pytorch.org/vision/stable/generated/torchvision.transforms.Compose.html\">torchvision.transforms.Compose</a>\n",
    "</details>"
   ]
  },
  {
   "cell_type": "code",
   "execution_count": 35,
   "metadata": {},
   "outputs": [],
   "source": [
    "###############################################################\n",
    "##                Compose your transformations               ##\n",
    "###############################################################\n",
    "norm_mean, norm_std = 0.1307, 0.3081\n",
    "transformation = transforms.Compose([\n",
    "    transforms.PILToTensor(),\n",
    "    transforms.ConvertImageDtype(torch.float),\n",
    "    transforms.Normalize(mean=norm_mean, std=norm_std)\n",
    "]) # Write your code here"
   ]
  },
  {
   "cell_type": "markdown",
   "metadata": {
    "id": "ANdYnd04N0ze"
   },
   "source": [
    "Split the downloaded MNIST dataset into two dataloaders ```train``` & ```val```"
   ]
  },
  {
   "cell_type": "code",
   "execution_count": 36,
   "metadata": {},
   "outputs": [
    {
     "name": "stdout",
     "output_type": "stream",
     "text": [
      "60000\n"
     ]
    }
   ],
   "source": [
    "# Download the MNIST dataset\n",
    "mnist_data = datasets.MNIST(root='data/', download=True, transform=transformation)\n",
    "\n",
    "# Number of images in the dataset: 60,000\n",
    "print(len(mnist_data))\n",
    "\n",
    "# Split the dataset into training and validation sets\n",
    "train_data, valid_data = random_split(mnist_data, [50000, 10000]) "
   ]
  },
  {
   "cell_type": "markdown",
   "metadata": {},
   "source": [
    "Create dataloaders for your train and validation data with ```batch size 16``` and ```shuffle = True``` for train loader."
   ]
  },
  {
   "cell_type": "markdown",
   "metadata": {},
   "source": [
    "<details>\n",
    "<summary>Hint</summary>\n",
    "<br>\n",
    "<a href=\"https://pytorch.org/tutorials/beginner/basics/data_tutorial.html\">DATASETS & DATALOADERS</a>\n",
    "</details>"
   ]
  },
  {
   "cell_type": "code",
   "execution_count": 37,
   "metadata": {
    "id": "4CEUTGaFQI51"
   },
   "outputs": [],
   "source": [
    "###############################################################\n",
    "##           Load the datasets into train/valid              ##\n",
    "##                       dataloaders                         ##\n",
    "###############################################################\n",
    "batch_size = 16\n",
    "train_loader = DataLoader(train_data, batch_size=batch_size, shuffle=True) # Write your code here\n",
    "val_loader = DataLoader(valid_data, batch_size=batch_size, shuffle=True) # Write your code here"
   ]
  },
  {
   "cell_type": "code",
   "execution_count": 38,
   "metadata": {},
   "outputs": [
    {
     "data": {
      "text/plain": [
       "[tensor([[[[-0.4242, -0.4242, -0.4242,  ..., -0.4242, -0.4242, -0.4242],\n",
       "           [-0.4242, -0.4242, -0.4242,  ..., -0.4242, -0.4242, -0.4242],\n",
       "           [-0.4242, -0.4242, -0.4242,  ..., -0.4242, -0.4242, -0.4242],\n",
       "           ...,\n",
       "           [-0.4242, -0.4242, -0.4242,  ..., -0.4242, -0.4242, -0.4242],\n",
       "           [-0.4242, -0.4242, -0.4242,  ..., -0.4242, -0.4242, -0.4242],\n",
       "           [-0.4242, -0.4242, -0.4242,  ..., -0.4242, -0.4242, -0.4242]]],\n",
       " \n",
       " \n",
       "         [[[-0.4242, -0.4242, -0.4242,  ..., -0.4242, -0.4242, -0.4242],\n",
       "           [-0.4242, -0.4242, -0.4242,  ..., -0.4242, -0.4242, -0.4242],\n",
       "           [-0.4242, -0.4242, -0.4242,  ..., -0.4242, -0.4242, -0.4242],\n",
       "           ...,\n",
       "           [-0.4242, -0.4242, -0.4242,  ..., -0.4242, -0.4242, -0.4242],\n",
       "           [-0.4242, -0.4242, -0.4242,  ..., -0.4242, -0.4242, -0.4242],\n",
       "           [-0.4242, -0.4242, -0.4242,  ..., -0.4242, -0.4242, -0.4242]]],\n",
       " \n",
       " \n",
       "         [[[-0.4242, -0.4242, -0.4242,  ..., -0.4242, -0.4242, -0.4242],\n",
       "           [-0.4242, -0.4242, -0.4242,  ..., -0.4242, -0.4242, -0.4242],\n",
       "           [-0.4242, -0.4242, -0.4242,  ..., -0.4242, -0.4242, -0.4242],\n",
       "           ...,\n",
       "           [-0.4242, -0.4242, -0.4242,  ..., -0.4242, -0.4242, -0.4242],\n",
       "           [-0.4242, -0.4242, -0.4242,  ..., -0.4242, -0.4242, -0.4242],\n",
       "           [-0.4242, -0.4242, -0.4242,  ..., -0.4242, -0.4242, -0.4242]]],\n",
       " \n",
       " \n",
       "         ...,\n",
       " \n",
       " \n",
       "         [[[-0.4242, -0.4242, -0.4242,  ..., -0.4242, -0.4242, -0.4242],\n",
       "           [-0.4242, -0.4242, -0.4242,  ..., -0.4242, -0.4242, -0.4242],\n",
       "           [-0.4242, -0.4242, -0.4242,  ..., -0.4242, -0.4242, -0.4242],\n",
       "           ...,\n",
       "           [-0.4242, -0.4242, -0.4242,  ..., -0.4242, -0.4242, -0.4242],\n",
       "           [-0.4242, -0.4242, -0.4242,  ..., -0.4242, -0.4242, -0.4242],\n",
       "           [-0.4242, -0.4242, -0.4242,  ..., -0.4242, -0.4242, -0.4242]]],\n",
       " \n",
       " \n",
       "         [[[-0.4242, -0.4242, -0.4242,  ..., -0.4242, -0.4242, -0.4242],\n",
       "           [-0.4242, -0.4242, -0.4242,  ..., -0.4242, -0.4242, -0.4242],\n",
       "           [-0.4242, -0.4242, -0.4242,  ..., -0.4242, -0.4242, -0.4242],\n",
       "           ...,\n",
       "           [-0.4242, -0.4242, -0.4242,  ..., -0.4242, -0.4242, -0.4242],\n",
       "           [-0.4242, -0.4242, -0.4242,  ..., -0.4242, -0.4242, -0.4242],\n",
       "           [-0.4242, -0.4242, -0.4242,  ..., -0.4242, -0.4242, -0.4242]]],\n",
       " \n",
       " \n",
       "         [[[-0.4242, -0.4242, -0.4242,  ..., -0.4242, -0.4242, -0.4242],\n",
       "           [-0.4242, -0.4242, -0.4242,  ..., -0.4242, -0.4242, -0.4242],\n",
       "           [-0.4242, -0.4242, -0.4242,  ..., -0.4242, -0.4242, -0.4242],\n",
       "           ...,\n",
       "           [-0.4242, -0.4242, -0.4242,  ..., -0.4242, -0.4242, -0.4242],\n",
       "           [-0.4242, -0.4242, -0.4242,  ..., -0.4242, -0.4242, -0.4242],\n",
       "           [-0.4242, -0.4242, -0.4242,  ..., -0.4242, -0.4242, -0.4242]]]]),\n",
       " tensor([6, 0, 1, 9, 4, 8, 8, 6, 8, 3, 9, 4, 4, 0, 5, 0])]"
      ]
     },
     "execution_count": 38,
     "metadata": {},
     "output_type": "execute_result"
    }
   ],
   "source": [
    "next(iter(train_loader))"
   ]
  },
  {
   "cell_type": "markdown",
   "metadata": {
    "id": "HF_40_3rQ5Uv"
   },
   "source": [
    "# Define Model (40 Points)"
   ]
  },
  {
   "cell_type": "markdown",
   "metadata": {},
   "source": [
    "### You need to implement a model with the architecture below:\n",
    "[Input: (BS, 1, 28, 28)] -- > [Conv2D (BS, 16, 28, 28)] --> ReLU --> [MaxPool2D (BS, 16, 14, 14): Residual1]\n",
    "\n",
    "--> [Conv2D (BS, 16, 14, 14)] --> ReLU --> [Conv2D (BS, 16, 14, 14)] --> ReLU --> [Addition with Residual1]\n",
    "\n",
    "--> [MaxPool2D (BS, 16, 7, 7)] --> [Conv2D (BS, 64, 7, 7)] --> [ReLU: Residual2]\n",
    "\n",
    "--> [Conv2D (BS, 64, 7, 7)] --> ReLU --> [Conv2D (BS, 64, 7, 7)] --> ReLU --> [Addition with Residual2]\n",
    "\n",
    "--> [GlobalAveragePooling (BS, 64, 1, 1)] --> [Flatten (BS, 64)] --> [Linear (BS, 10)] --> OUT\n",
    "\n",
    "Here you can see the drawn schematic of the architecture, too: [Link](https://drive.google.com/file/d/1acQve-TOYd6wYtogpHCblhoDZt9jWQdf/view?usp=share_link)"
   ]
  },
  {
   "cell_type": "markdown",
   "metadata": {},
   "source": [
    "<details>\n",
    "<summary>Hint</summary>\n",
    "<br>\n",
    "These might be helpful:\n",
    "<br>\n",
    "<a href=\"https://pytorch.org/docs/stable/generated/torch.clone.html\">TORCH.CLONE</a>\n",
    "<br><br>\n",
    "<a href=\"https://pytorch.org/docs/master/generated/torch.nn.AdaptiveAvgPool2d.html#torch.nn.AdaptiveAvgPool2d\">AdaptiveAvgPool2d</a> with output size (1, 1) for global average pooling\n",
    "<br><br>\n",
    "<a href=\"https://arxiv.org/pdf/1512.03385.pdf\">Deep Residual Learning for Image Recognition</a>\n",
    "</details>"
   ]
  },
  {
   "cell_type": "code",
   "execution_count": 39,
   "metadata": {
    "id": "jQfGVj2rQ90G"
   },
   "outputs": [],
   "source": [
    "#####################################\n",
    "##        Define your model        ##\n",
    "##            Your Code            ##\n",
    "#####################################\n",
    "class ResidualClassifier(nn.Module):\n",
    "    def __init__(self):\n",
    "        super().__init__()\n",
    "        \n",
    "        layers_dict = {}\n",
    "        layers_dict[\"Res1\"] = nn.Sequential(\n",
    "            nn.Conv2d(in_channels=1, out_channels=16, kernel_size=3, padding=1),\n",
    "            nn.ReLU(),\n",
    "            nn.MaxPool2d(kernel_size=2, stride=2)\n",
    "        )\n",
    "        layers_dict[\"AddRes1\"] = nn.Sequential(\n",
    "            nn.Conv2d(in_channels=16, out_channels=16, kernel_size=3, padding=1),\n",
    "            nn.ReLU(),\n",
    "            nn.Conv2d(in_channels=16, out_channels=16, kernel_size=3, padding=1),\n",
    "            nn.ReLU()\n",
    "        )\n",
    "        layers_dict[\"Res2\"] = nn.Sequential(\n",
    "            nn.MaxPool2d(kernel_size=2, stride=2),\n",
    "            nn.Conv2d(in_channels=16, out_channels=64, kernel_size=3, padding=1),\n",
    "            nn.ReLU()\n",
    "        )\n",
    "        layers_dict[\"AddRes2\"] = nn.Sequential(\n",
    "            nn.Conv2d(in_channels=64, out_channels=64, kernel_size=3, padding=1),\n",
    "            nn.ReLU(),\n",
    "            nn.Conv2d(in_channels=64, out_channels=64, kernel_size=3, padding=1),\n",
    "            nn.ReLU()\n",
    "        )\n",
    "        layers_dict[\"OUT\"] = nn.Sequential(\n",
    "            nn.AdaptiveAvgPool2d((1, 1)),\n",
    "            nn.Flatten(),\n",
    "            nn.Linear(in_features=64, out_features=10) \n",
    "        )\n",
    "        self.nn_layers = nn.ModuleDict(layers_dict)\n",
    "\n",
    "    def forward(self, x):\n",
    "        res1 = self.nn_layers[\"Res1\"](x)\n",
    "        add_res1 = self.nn_layers[\"AddRes1\"](res1) + res1\n",
    "        res2 = self.nn_layers[\"Res2\"](add_res1)\n",
    "        add_res2 = self.nn_layers[\"AddRes2\"](res2) + res2\n",
    "        out = self.nn_layers[\"OUT\"](add_res2)\n",
    "        return out"
   ]
  },
  {
   "cell_type": "markdown",
   "metadata": {
    "id": "1jZeKXV9Rbq3"
   },
   "source": [
    "# Train Model (30 Points)"
   ]
  },
  {
   "cell_type": "code",
   "execution_count": 40,
   "metadata": {
    "id": "koMk0TkKRazn"
   },
   "outputs": [],
   "source": [
    "######################################################################\n",
    "##        Instantiate model, define hyper parameters, optimizer,    ##\n",
    "##        loss function and etc                                     ##\n",
    "######################################################################\n",
    "lr = 1e-4\n",
    "\n",
    "model = ResidualClassifier().to(device)\n",
    "criterion = nn.CrossEntropyLoss() # Write your code here\n",
    "optimizer = torch.optim.Adam(model.parameters(), lr=lr) # Write your code here"
   ]
  },
  {
   "cell_type": "code",
   "execution_count": null,
   "metadata": {},
   "outputs": [],
   "source": [
    "import numpy as np\n",
    "\n",
    "def update_confusion_matrix(conf_matrix, preds, reals):\n",
    "    for i in range(conf_matrix.shape[0]):\n",
    "        for j in range(conf_matrix.shape[1]):\n",
    "            conf_matrix[i, j] += np.sum((reals == i) & (preds == j))\n",
    "    return conf_matrix\n",
    "\n",
    "def f1_score(confusion_matrix):\n",
    "    f1_score = None\n",
    "    f1_scores = np.zeros(confusion_matrix.shape[0])\n",
    "    for i in range(confusion_matrix.shape[0]):\n",
    "        precision = 0.0\n",
    "        recall = 0.0\n",
    "        if np.sum(confusion_matrix[:, i]) != 0:\n",
    "            precision = confusion_matrix[i, i] / np.sum(confusion_matrix[:, i])\n",
    "        if np.sum(confusion_matrix[i, :]) != 0:\n",
    "            recall = confusion_matrix[i, i] / np.sum(confusion_matrix[i, :])\n",
    "        if precision + recall == 0:\n",
    "            f1_scores[i] = 0\n",
    "        else:\n",
    "            f1_scores[i] = 2 * recall * precision / (recall + precision)\n",
    "    f1_score = np.mean(f1_scores)\n",
    "    return f1_score\n",
    "\n",
    "def accuracy_score(confusion_matrix):\n",
    "    if np.sum(confusion_matrix) == 0:\n",
    "        return 0\n",
    "    return np.trace(confusion_matrix) / np.sum(confusion_matrix)"
   ]
  },
  {
   "cell_type": "code",
   "execution_count": 42,
   "metadata": {},
   "outputs": [
    {
     "name": "stderr",
     "output_type": "stream",
     "text": [
      "Train 0 | Loss: 5.225e-02 | Accuracy: 0.723 | F1: 0.720: 100%|██████████| 3125/3125 [00:56<00:00, 55.75it/s]\n",
      "Val 0 | Loss: 1.870e-02 | Accuracy: 0.914 | F1: 0.914: 100%|██████████| 625/625 [00:07<00:00, 84.77it/s]\n",
      "Train 1 | Loss: 1.636e-02 | Accuracy: 0.922 | F1: 0.922: 100%|██████████| 3125/3125 [01:01<00:00, 50.66it/s]\n",
      "Val 1 | Loss: 1.162e-02 | Accuracy: 0.945 | F1: 0.945: 100%|██████████| 625/625 [00:07<00:00, 82.91it/s]\n",
      "Train 2 | Loss: 1.159e-02 | Accuracy: 0.943 | F1: 0.943: 100%|██████████| 3125/3125 [00:59<00:00, 52.48it/s]\n",
      "Val 2 | Loss: 1.175e-02 | Accuracy: 0.940 | F1: 0.940: 100%|██████████| 625/625 [00:06<00:00, 90.28it/s]\n",
      "Train 3 | Loss: 8.948e-03 | Accuracy: 0.956 | F1: 0.956: 100%|██████████| 3125/3125 [00:57<00:00, 54.73it/s]\n",
      "Val 3 | Loss: 7.215e-03 | Accuracy: 0.966 | F1: 0.965: 100%|██████████| 625/625 [00:07<00:00, 88.11it/s] \n",
      "Train 4 | Loss: 7.548e-03 | Accuracy: 0.963 | F1: 0.963: 100%|██████████| 3125/3125 [01:00<00:00, 51.91it/s]\n",
      "Val 4 | Loss: 6.409e-03 | Accuracy: 0.968 | F1: 0.968: 100%|██████████| 625/625 [00:07<00:00, 81.37it/s]\n",
      "Train 5 | Loss: 6.484e-03 | Accuracy: 0.967 | F1: 0.967: 100%|██████████| 3125/3125 [01:09<00:00, 44.95it/s]\n",
      "Val 5 | Loss: 5.130e-03 | Accuracy: 0.975 | F1: 0.975: 100%|██████████| 625/625 [00:07<00:00, 88.09it/s]\n",
      "Train 6 | Loss: 5.798e-03 | Accuracy: 0.972 | F1: 0.972: 100%|██████████| 3125/3125 [00:54<00:00, 57.02it/s]\n",
      "Val 6 | Loss: 5.952e-03 | Accuracy: 0.972 | F1: 0.971: 100%|██████████| 625/625 [00:07<00:00, 87.55it/s]\n",
      "Train 7 | Loss: 5.298e-03 | Accuracy: 0.973 | F1: 0.973: 100%|██████████| 3125/3125 [00:57<00:00, 53.96it/s]\n",
      "Val 7 | Loss: 4.372e-03 | Accuracy: 0.979 | F1: 0.979: 100%|██████████| 625/625 [00:07<00:00, 84.17it/s]\n",
      "Train 8 | Loss: 4.856e-03 | Accuracy: 0.976 | F1: 0.976: 100%|██████████| 3125/3125 [00:58<00:00, 53.77it/s]\n",
      "Val 8 | Loss: 4.966e-03 | Accuracy: 0.976 | F1: 0.975: 100%|██████████| 625/625 [00:07<00:00, 88.66it/s]\n",
      "Train 9 | Loss: 4.510e-03 | Accuracy: 0.977 | F1: 0.977: 100%|██████████| 3125/3125 [00:58<00:00, 53.84it/s]\n",
      "Val 9 | Loss: 4.506e-03 | Accuracy: 0.978 | F1: 0.978: 100%|██████████| 625/625 [00:07<00:00, 83.74it/s]\n",
      "Train 10 | Loss: 4.070e-03 | Accuracy: 0.980 | F1: 0.980: 100%|██████████| 3125/3125 [00:57<00:00, 54.43it/s]\n",
      "Val 10 | Loss: 3.348e-03 | Accuracy: 0.984 | F1: 0.984: 100%|██████████| 625/625 [00:06<00:00, 96.61it/s] \n",
      "Train 11 | Loss: 3.755e-03 | Accuracy: 0.981 | F1: 0.981: 100%|██████████| 3125/3125 [00:56<00:00, 54.86it/s]\n",
      "Val 11 | Loss: 3.629e-03 | Accuracy: 0.983 | F1: 0.982: 100%|██████████| 625/625 [00:06<00:00, 90.82it/s]\n",
      "Train 12 | Loss: 3.571e-03 | Accuracy: 0.982 | F1: 0.982: 100%|██████████| 3125/3125 [00:55<00:00, 56.06it/s]\n",
      "Val 12 | Loss: 3.357e-03 | Accuracy: 0.983 | F1: 0.982: 100%|██████████| 625/625 [00:06<00:00, 96.01it/s] \n",
      "Train 13 | Loss: 3.253e-03 | Accuracy: 0.984 | F1: 0.984: 100%|██████████| 3125/3125 [00:50<00:00, 61.97it/s]\n",
      "Val 13 | Loss: 3.531e-03 | Accuracy: 0.983 | F1: 0.983: 100%|██████████| 625/625 [00:05<00:00, 108.90it/s]\n",
      "Train 14 | Loss: 3.021e-03 | Accuracy: 0.985 | F1: 0.984: 100%|██████████| 3125/3125 [00:50<00:00, 61.78it/s]\n",
      "Val 14 | Loss: 2.938e-03 | Accuracy: 0.987 | F1: 0.987: 100%|██████████| 625/625 [00:06<00:00, 95.40it/s] \n",
      "Train 15 | Loss: 2.804e-03 | Accuracy: 0.986 | F1: 0.986: 100%|██████████| 3125/3125 [00:50<00:00, 61.64it/s]\n",
      "Val 15 | Loss: 2.684e-03 | Accuracy: 0.988 | F1: 0.987: 100%|██████████| 625/625 [00:06<00:00, 99.93it/s] \n",
      "Train 16 | Loss: 2.660e-03 | Accuracy: 0.987 | F1: 0.987: 100%|██████████| 3125/3125 [00:48<00:00, 63.92it/s]\n",
      "Val 16 | Loss: 2.785e-03 | Accuracy: 0.987 | F1: 0.987: 100%|██████████| 625/625 [00:06<00:00, 98.63it/s] \n",
      "Train 17 | Loss: 2.497e-03 | Accuracy: 0.988 | F1: 0.988: 100%|██████████| 3125/3125 [00:54<00:00, 57.51it/s]\n",
      "Val 17 | Loss: 2.799e-03 | Accuracy: 0.987 | F1: 0.987: 100%|██████████| 625/625 [00:06<00:00, 89.75it/s]\n",
      "Train 18 | Loss: 2.356e-03 | Accuracy: 0.988 | F1: 0.988: 100%|██████████| 3125/3125 [00:56<00:00, 55.06it/s]\n",
      "Val 18 | Loss: 2.619e-03 | Accuracy: 0.988 | F1: 0.988: 100%|██████████| 625/625 [00:07<00:00, 86.60it/s]\n",
      "Train 19 | Loss: 2.164e-03 | Accuracy: 0.989 | F1: 0.989: 100%|██████████| 3125/3125 [00:56<00:00, 54.97it/s]\n",
      "Val 19 | Loss: 2.579e-03 | Accuracy: 0.988 | F1: 0.988: 100%|██████████| 625/625 [00:07<00:00, 87.93it/s]\n"
     ]
    }
   ],
   "source": [
    "######################################################################\n",
    "##        Train your model (Complete the code below)                ##\n",
    "######################################################################\n",
    "train_total_step = len(train_loader)\n",
    "val_total_step = len(val_loader)\n",
    "train_losses = []\n",
    "train_accs = []\n",
    "train_f1s = []\n",
    "val_losses = []\n",
    "val_accs = []\n",
    "val_f1s = []\n",
    "num_epochs = 20\n",
    "best_model = None\n",
    "best_val_loss = np.Inf\n",
    "\n",
    "for epoch in range(num_epochs):\n",
    "    train_loss = 0.0\n",
    "    N = 0\n",
    "    conf_matrix = np.zeros((10, 10))\n",
    "    with tqdm(enumerate(train_loader), total=train_total_step) as pbar:\n",
    "        for i, (images, labels) in pbar:  \n",
    "            optimizer.zero_grad()\n",
    "            images = images.to(device)\n",
    "            labels = labels.to(device)\n",
    "            preds = model(images)\n",
    "            outputs = torch.argmax(torch.softmax(preds, dim=1) ,dim=1)\n",
    "            loss = criterion(preds, labels)\n",
    "            N += len(images)\n",
    "            train_loss += loss.detach()\n",
    "            loss.backward()\n",
    "            optimizer.step()\n",
    "\n",
    "            update_confusion_matrix(conf_matrix, outputs.cpu().numpy(), labels.cpu().numpy())\n",
    "            acc = accuracy_score(conf_matrix)\n",
    "            f1 = f1_score(conf_matrix)\n",
    "            pbar.set_description(f'Train {epoch} | Loss: {train_loss/N:.3e} | Accuracy: {acc:.3f} | F1: {f1:.3f}')\n",
    "\n",
    "    train_losses.append(train_loss / N)\n",
    "    train_accs.append(accuracy_score(conf_matrix))\n",
    "    train_f1s.append(f1_score(conf_matrix))\n",
    "\n",
    "    val_loss = 0.0\n",
    "    N = 0\n",
    "    conf_matrix = np.zeros((10, 10))\n",
    "    with torch.no_grad():\n",
    "        with tqdm(enumerate(val_loader), total=val_total_step) as pbar:\n",
    "            for i, (images, labels) in pbar:\n",
    "                images = images.to(device)\n",
    "                labels = labels.to(device)\n",
    "                preds = model(images)\n",
    "                outputs = torch.argmax(torch.softmax(preds, dim=1) ,dim=1)\n",
    "                loss = criterion(preds, labels)\n",
    "                N += len(images)\n",
    "                val_loss += loss.detach()\n",
    "\n",
    "                update_confusion_matrix(conf_matrix, outputs.cpu().numpy(), labels.cpu().numpy())\n",
    "                acc = accuracy_score(conf_matrix)\n",
    "                f1 = f1_score(conf_matrix)\n",
    "                pbar.set_description(f'Val {epoch} | Loss: {val_loss/N:.3e} | Accuracy: {acc:.3f} | F1: {f1:.3f}')\n",
    "    \n",
    "    val_losses.append(val_loss / N)\n",
    "    val_accs.append(accuracy_score(conf_matrix))\n",
    "    val_f1s.append(f1_score(conf_matrix))\n",
    "\n",
    "    if val_losses[-1] < best_val_loss:\n",
    "        best_model = deepcopy(model)\n",
    "        best_val_loss = val_losses[-1]"
   ]
  },
  {
   "cell_type": "code",
   "execution_count": 43,
   "metadata": {
    "id": "_YSWvcEGSVor"
   },
   "outputs": [
    {
     "data": {
      "image/png": "[encoded data removed]",
      "text/plain": [
       "<Figure size 432x288 with 6 Axes>"
      ]
     },
     "metadata": {},
     "output_type": "display_data"
    }
   ],
   "source": [
    "##############################################################\n",
    "##          Plot metrics graph for different epochs         ##\n",
    "##                        Your Code                         ##\n",
    "##############################################################\n",
    "fig, axs = plt.subplots(nrows = 3, ncols = 2)\n",
    "# loss\n",
    "axs[0, 0].plot(train_losses)\n",
    "axs[0, 0].set_title(\"train_losses\")\n",
    "axs[0, 1].plot(val_losses)\n",
    "axs[0, 1].set_title(\"val_losses\")\n",
    "for ax in axs[0]:\n",
    "    ax.set(ylabel=\"loss\")\n",
    "\n",
    "# acc\n",
    "axs[1, 0].plot(train_accs)\n",
    "axs[1, 0].set_title(\"train_accs\")\n",
    "axs[1, 1].plot(val_accs)\n",
    "axs[1, 1].set_title(\"val_accs\")\n",
    "for ax in axs[1]:\n",
    "    ax.set(ylabel=\"accuracy\")\n",
    "\n",
    "# f1\n",
    "axs[2, 0].plot(train_f1s)\n",
    "axs[2, 0].set_title(\"train_f1s\")\n",
    "axs[2, 1].plot(val_f1s)\n",
    "axs[2, 1].set_title(\"val_f1s\")\n",
    "for ax in axs[2]:\n",
    "    ax.set(ylabel=\"f1 score\")\n",
    "\n",
    "for ax in axs.flat:\n",
    "    ax.set(xlabel=\"epoch\")\n",
    "\n",
    "plt.show()"
   ]
  },
  {
   "cell_type": "markdown",
   "metadata": {
    "id": "LzhCrIFkSE1D"
   },
   "source": [
    "# Test Model (20 Points)"
   ]
  },
  {
   "cell_type": "code",
   "execution_count": 46,
   "metadata": {
    "id": "ihixveNISFwE"
   },
   "outputs": [
    {
     "name": "stdout",
     "output_type": "stream",
     "text": [
      "10000\n"
     ]
    },
    {
     "name": "stderr",
     "output_type": "stream",
     "text": [
      "Test | Loss: 5.401e-04: 100%|██████████| 157/157 [00:04<00:00, 37.66it/s]\n"
     ]
    },
    {
     "data": {
      "image/png": "[encoded data removed]",
      "text/plain": [
       "<Figure size 288x288 with 1 Axes>"
      ]
     },
     "metadata": {},
     "output_type": "display_data"
    },
    {
     "name": "stdout",
     "output_type": "stream",
     "text": [
      "Test Accuracy: 0.9884\n",
      "Test F1 Score: 0.9883212218480363\n"
     ]
    }
   ],
   "source": [
    "##################################################\n",
    "##          Test your model on test-set         ##\n",
    "##          and plot confusion matrix           ##\n",
    "##################################################\n",
    "\n",
    "test_data = datasets.MNIST(root='data/', download=True, transform=transformation, train=False)\n",
    "test_loader = DataLoader(test_data, batch_size=64, shuffle=False)\n",
    "test_total_step = len(test_loader)\n",
    "print(len(test_data))\n",
    "\n",
    "test_loss = 0.0\n",
    "N = 0\n",
    "conf_matrix = np.zeros((10, 10))\n",
    "with torch.no_grad():\n",
    "    with tqdm(enumerate(test_loader), total=test_total_step) as pbar:\n",
    "        for i, (images, labels) in pbar:\n",
    "            images = images.to(device)\n",
    "            labels = labels.to(device)\n",
    "            preds = model(images)\n",
    "            outputs = torch.argmax(torch.softmax(preds, dim=1) ,dim=1)\n",
    "            loss = criterion(preds, labels)\n",
    "            N += len(images)\n",
    "            test_loss += loss.detach()\n",
    "\n",
    "            update_confusion_matrix(conf_matrix, outputs.cpu().numpy(), labels.cpu().numpy())\n",
    "            pbar.set_description(f'Test | Loss: {test_loss/N:.3e}')\n",
    "\n",
    "plt.matshow(conf_matrix)\n",
    "plt.xticks(np.arange(10))\n",
    "plt.yticks(np.arange(10))\n",
    "plt.ylabel('Real')\n",
    "plt.xlabel('Predicted')\n",
    "plt.show()\n",
    "\n",
    "print(f'Test Accuracy: {accuracy_score(conf_matrix)}')\n",
    "print(f'Test F1 Score: {f1_score(conf_matrix)}')\n"
   ]
  }
 ],
 "metadata": {
  "colab": {
   "provenance": []
  },
  "kernelspec": {
   "display_name": "base",
   "language": "python",
   "name": "python3"
  },
  "language_info": {
   "codemirror_mode": {
    "name": "ipython",
    "version": 3
   },
   "file_extension": ".py",
   "mimetype": "text/x-python",
   "name": "python",
   "nbconvert_exporter": "python",
   "pygments_lexer": "ipython3",
   "version": "3.9.12"
  },
  "varInspector": {
   "cols": {
    "lenName": 16,
    "lenType": 16,
    "lenVar": 40
   },
   "kernels_config": {
    "python": {
     "delete_cmd_postfix": "",
     "delete_cmd_prefix": "del ",
     "library": "var_list.py",
     "varRefreshCmd": "print(var_dic_list())"
    },
    "r": {
     "delete_cmd_postfix": ") ",
     "delete_cmd_prefix": "rm(",
     "library": "var_list.r",
     "varRefreshCmd": "cat(var_dic_list()) "
    }
   },
   "types_to_exclude": [
    "module",
    "function",
    "builtin_function_or_method",
    "instance",
    "_Feature"
   ],
   "window_display": false
  },
  "vscode": {
   "interpreter": {
    "hash": "4505c32f76012c632bc1937466981275dc824c4a4bf8fed43f9e38cd69a6e7a6"
   }
  }
 },
 "nbformat": 4,
 "nbformat_minor": 1
}
